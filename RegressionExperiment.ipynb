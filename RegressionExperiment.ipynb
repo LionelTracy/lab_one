{
 "cells": [
  {
   "cell_type": "code",
   "execution_count": null,
   "metadata": {
    "collapsed": true
   },
   "outputs": [],
   "source": [
    "import numpy as np\n",
    "import matplotlib.pylab as plt\n",
    "import jupyter\n",
    "from sklearn.datasets import load_svmlight_file\n",
    "from sklearn.model_selection import train_test_split\n",
    "\n",
    "#读取txt并切割数据集\n",
    "data=load_svmlight_file('housing_scale')\n",
    "x_train, x_test, y_train, y_test=train_test_split(data[0],data[1], test_size=0.33)\n",
    "\n",
    "#初始化参数\n",
    "learning_rate=0.00001\n",
    "iter_number=10000\n",
    "init_w=np.zeros(shape=[14,1])\n",
    "x_train = x_train.todense()\n",
    "x_test = x_test.todense()\n",
    "Y_train=np.mat(y_train)\n",
    "Y_test=np.mat(y_test)\n",
    "\n",
    "\n",
    "matrix1=np.ones(shape=[339,1])\n",
    "matrix2=np.ones(shape=[167,1])\n",
    "X_train=np.hstack((x_train,matrix1))\n",
    "X_test=np.hstack((x_test,matrix2))\n",
    "\n",
    "#梯度求解\n",
    "gradient=-np.dot(X_train.T,Y_train.T)+np.dot(np.dot(X_train.T, X_train),init_w)\n",
    "w=init_w\n",
    "\n",
    "#循环\n",
    "train_list = []\n",
    "test_list = []\n",
    "for loss in range(iter_number):\n",
    "    w=w-gradient*learning_rate\n",
    "    gradient=-np.dot(X_train.T,Y_train.T)+np.dot(np.dot(X_train.T, X_train),w)\n",
    "    #求损失函数\n",
    "    loss_train=np.dot((np.dot(X_train,w)-Y_train.T).T,(np.dot(X_train,w)-Y_train.T))\n",
    "    loss_test=np.dot((np.dot(X_test,w)-Y_test.T).T,(np.dot(X_test,w)-Y_test.T))\n",
    "    l1=loss_train.tolist()\n",
    "    l2=loss_test.tolist()\n",
    "    train_list.append(l1[0][0])\n",
    "    test_list.append(l2[0][0])\n",
    "\n",
    "plt.plot(np.arange(0, iter_number), train_list, label=\"train_loss\")\n",
    "plt.plot(np.arange(0, iter_number), test_list, label=\"test_loss\")\n",
    "plt.legend()\n",
    "plt.show()\n",
    "\n",
    "\n"
   ]
  }
 ],
 "metadata": {
  "kernelspec": {
   "display_name": "Python 3",
   "language": "python",
   "name": "python3"
  },
  "language_info": {
   "codemirror_mode": {
    "name": "ipython",
    "version": 3
   },
   "file_extension": ".py",
   "mimetype": "text/x-python",
   "name": "python",
   "nbconvert_exporter": "python",
   "pygments_lexer": "ipython3",
   "version": "3.6.3"
  }
 },
 "nbformat": 4,
 "nbformat_minor": 2
}
